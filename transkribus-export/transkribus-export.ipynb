{
 "cells": [
  {
   "cell_type": "markdown",
   "metadata": {},
   "source": [
    "# Exporting PAGE XML files from a Transkribus collection"
   ]
  },
  {
   "cell_type": "code",
   "execution_count": null,
   "metadata": {},
   "outputs": [],
   "source": [
    "import json\n",
    "import re\n",
    "\n",
    "with open('./issue-parser-result.json') as issue_json:\n",
    "    issue_desc = json.load(issue_json)\n",
    "\n",
    "to_export_transkribus = issue_desc['document-id']\n",
    "\n",
    "collectionId = re.search(r\"\\((\\w+)\\)\", issue_desc['source-collection']).group(0) [1:-1]\n",
    "\n",
    "print(to_export_transkribus)\n",
    "print(collectionId)"
   ]
  },
  {
   "cell_type": "markdown",
   "metadata": {},
   "source": [
    "## Setup"
   ]
  },
  {
   "cell_type": "code",
   "execution_count": null,
   "metadata": {},
   "outputs": [],
   "source": [
    "collId = collectionId\n",
    "docId = to_export_transkribus"
   ]
  },
  {
   "cell_type": "code",
   "execution_count": null,
   "metadata": {},
   "outputs": [],
   "source": [
    "!pip install lxml_html_clean\n",
    "!pip install lxml[html_clean]\n",
    "!pip install requests-toolbelt\n",
    "\n",
    "import requests\n",
    "from requests_toolbelt.multipart.encoder import MultipartEncoder\n",
    "import os\n",
    "from lxml import etree\n",
    "import json"
   ]
  },
  {
   "cell_type": "code",
   "execution_count": null,
   "metadata": {},
   "outputs": [],
   "source": [
    "if secretsPath:\n",
    "    with open(secretsPath, 'r') as secretsFile:\n",
    "        secrets = json.loads(secretsFile.read())\n",
    "        for (k, v) in secrets.items():\n",
    "            os.environ[k] = v\n",
    "\n",
    "creds = json.loads(os.environ[\"TRANSKRIBUS_CREDENTIALS\"])\n",
    "\n",
    "s = requests.Session()\n",
    "s.post('https://transkribus.eu/TrpServer/rest/auth/login', data=creds)"
   ]
  },
  {
   "cell_type": "markdown",
   "metadata": {},
   "source": [
    "## Initialisation"
   ]
  },
  {
   "cell_type": "markdown",
   "metadata": {},
   "source": [
    "<!-- does it make sense to get mets files, too? \n",
    "\n",
    "http://transkribus.eu/TrpServer/rest/collections/{collId}/{id}/mets\n",
    "\n",
    "-->"
   ]
  },
  {
   "cell_type": "code",
   "execution_count": null,
   "metadata": {},
   "outputs": [],
   "source": [
    "docs = s.get('https://transkribus.eu/TrpServer/rest/collections/'+ str(collId) +'/'+ str(docId) +'/pages')\n",
    "json = json.loads(docs.content)\n",
    "\n",
    "transcript_urls = []\n",
    "\n",
    "for page in json:\n",
    "    tsList = page['tsList']\n",
    "    most_recent_transcript = None\n",
    "    latest_timestamp = 0\n",
    "\n",
    "    for transcript in tsList['transcripts']:\n",
    "        timestamp = transcript['timestamp']\n",
    "        if timestamp > latest_timestamp:\n",
    "            latest_timestamp = timestamp\n",
    "            most_recent_transcript = transcript\n",
    "\n",
    "#    transcript_urls.append(most_recent_transcript['url'])\n",
    "        if most_recent_transcript:\n",
    "            transcript_urls.append({\n",
    "                'imgFileName': page['imgFileName'],\n",
    "                'transcript_url': most_recent_transcript['url']\n",
    "            })\n",
    "\n",
    "transcript_urls"
   ]
  },
  {
   "cell_type": "code",
   "execution_count": null,
   "metadata": {},
   "outputs": [],
   "source": [
    "import requests\n",
    "import xml.etree.ElementTree as ET\n",
    "\n",
    "# transcript_urls defined above\n",
    "\n",
    "xml_files = []\n",
    "\n",
    "for url in transcript_urls:\n",
    "  response = requests.get(url['transcript_url'])\n",
    "  if response.status_code == 200:\n",
    "    # fix image renaming by Trankribus; use our name instead of Transkribus internal name\n",
    "    ET.register_namespace(\"\", \"http://schema.primaresearch.org/PAGE/gts/pagecontent/2013-07-15\")\n",
    "    xml_content = response.text\n",
    "    root = ET.fromstring(xml_content)\n",
    "    page_element = root.find('.//{http://schema.primaresearch.org/PAGE/gts/pagecontent/2013-07-15}Page')\n",
    "    if page_element is not None:\n",
    "      current_imageFilename = page_element.get('imageFilename')\n",
    "      if current_imageFilename and current_imageFilename != url['imgFileName']:\n",
    "        page_element.set('imageFilename', url['imgFileName'])\n",
    "    processed_xml = ET.tostring(root, encoding='unicode')\n",
    "    xml_files.append(processed_xml)\n",
    "\n",
    "xml_files_all = \"\"\n",
    "for xml_file in xml_files:\n",
    "  xml_files_all += xml_file\n",
    "\n",
    "validation_payload = \"\"\n",
    "validation_payload += '<?xml version=\"1.0\" encoding=\"UTF-8\"?><?xml-model href=\"dse-as-transkribus.sch\" type=\"application/xml\" schematypens=\"http://purl.oclc.org/dsdl/schematron\"?>\\n<validation-wrapper>' + xml_files_all + '</validation-wrapper>\\n'\n",
    "\n",
    "validation_payload\n",
    "\n",
    "#validation_payload = '<?xml version=\"1.0\" encoding=\"UTF-8\"?>\\n{0}'.format(validation_payload)\n",
    "\n",
    "#validation_payload = ET.tostring(validation_payload, encoding=\"utf-8\").decode(\"utf-8\")\n",
    "\n",
    "# Print or save the XML string\n",
    "print(validation_payload)\n",
    "\n",
    "with open(\"./validation_input.xml\", \"w\", encoding=\"utf-8\") as f:\n",
    "    f.write(validation_payload)"
   ]
  },
  {
   "cell_type": "markdown",
   "metadata": {},
   "source": [
    "# Set up pyschematron"
   ]
  },
  {
   "cell_type": "code",
   "execution_count": null,
   "metadata": {},
   "outputs": [],
   "source": [
    "!pip install pyschematron\n",
    "\n",
    "from pathlib import Path\n",
    "\n",
    "from lxml import etree\n",
    "\n",
    "from pyschematron import DirectModeSchematronValidatorFactory, validate_document\n",
    "from pyschematron.direct_mode.schematron.ast_visitors import ResolveExtendsVisitor, ResolveAbstractPatternsVisitor, PhaseSelectionVisitor\n",
    "from pyschematron.direct_mode.schematron.parsers.xml.parser import SchemaParser, ParsingContext\n",
    "from pyschematron.direct_mode.xml_validation.results.svrl_builder import DefaultSVRLReportBuilder\n",
    "from pyschematron.direct_mode.xml_validation.validators import SimpleSchematronXMLValidator\n",
    "from pyschematron.utils import load_xml_document\n",
    "\n",
    "# Note that it is possible to include custom python functions (see pyschematron repo); however this led to buggy evaluation of is-valid() \n",
    "# for cases where the functions did not apply (or when they were deactivated)"
   ]
  },
  {
   "cell_type": "code",
   "execution_count": null,
   "metadata": {},
   "outputs": [],
   "source": [
    "\n",
    "# paths to the xml data and schema\n",
    "schematron_base_path = Path('./')\n",
    "schematron_schema_path = schematron_base_path / 'transkribus-export/dse-as-transkribus.sch'\n",
    "xml_document_path = schematron_base_path / 'validation_input.xml'\n",
    "\n",
    "\n",
    "def pyschematron_functional_interface():\n",
    "    \"\"\"This example uses the functional interface, the most simple method of interacting with PySchematron. \"\"\"\n",
    "    result = validate_document(xml_document_path, schematron_schema_path)\n",
    "    svrl = result.get_svrl()\n",
    "\n",
    "    report_str = etree.tostring(svrl, pretty_print=True).decode('utf-8')\n",
    "    with open(\"./validation_output-svrl.xml\", \"w\", encoding=\"utf-8\") as f:\n",
    "        f.write(report_str)\n",
    "    validation_result = str(result.is_valid())\n",
    "    with open(\"./validation_is_valid.txt\", \"w\", encoding=\"utf-8\") as f:\n",
    "        f.write(validation_result)    \n",
    "    print(report_str)\n",
    "    print(result.is_valid())\n",
    "\n",
    "pyschematron_functional_interface()\n"
   ]
  },
  {
   "cell_type": "code",
   "execution_count": null,
   "metadata": {},
   "outputs": [],
   "source": [
    "from lxml import etree\n",
    "\n",
    "xml_data = etree.parse('./validation_output-svrl.xml')\n",
    "\n",
    "xslt_str = \"\"\"<?xml version=\"1.0\" encoding=\"UTF-8\"?>\n",
    "<xsl:stylesheet version=\"1.0\" xmlns:xsl=\"http://www.w3.org/1999/XSL/Transform\"\n",
    "  xmlns:svrl=\"http://purl.oclc.org/dsdl/svrl\">\n",
    "  <xsl:output method=\"text\" omit-xml-declaration=\"yes\" indent=\"no\"/>\n",
    "  <xsl:template match=\"/\">\n",
    "\n",
    "    <xsl:text>&#xA;</xsl:text>\n",
    "    <xsl:text>## Problems detected:&#xA;&#xA;</xsl:text>\n",
    "\n",
    "    <xsl:apply-templates select=\"//svrl:failed-assert\"/>\n",
    "    <xsl:apply-templates select=\"//svrl:successful-report\"/>\n",
    "\n",
    "    <xsl:text>&#xA;**Try to resolve the problems in Transkribus and re-run the validation by replying to this issue or opening a new issue.**</xsl:text>\n",
    "\n",
    "  </xsl:template>\n",
    "\n",
    "  <xsl:template match=\"svrl:failed-assert|svrl:successful-report\">\n",
    "    <xsl:value-of select=\"concat('* ',svrl:text,'&#xA;')\"/>\n",
    "  </xsl:template>\n",
    "\n",
    "</xsl:stylesheet>\n",
    "\"\"\"\n",
    "\n",
    "# Parse XML and XSLT data\n",
    "xslt_data = etree.fromstring(bytes(xslt_str, encoding='utf-8'))\n",
    "\n",
    "# Create transform object\n",
    "transform = etree.XSLT(xslt_data)\n",
    "\n",
    "# Apply transformation\n",
    "result = transform(xml_data)\n",
    "\n",
    "print(result)\n",
    "\n",
    "with open(\"./issue-reply.txt\", \"w\", encoding=\"utf-8\") as f:\n",
    "        f.write(str(result))"
   ]
  }
 ],
 "metadata": {
  "colab": {
   "include_colab_link": true,
   "provenance": []
  },
  "kernelspec": {
   "display_name": "Python 3",
   "language": "python",
   "name": "python3"
  },
  "language_info": {
   "codemirror_mode": {
    "name": "ipython",
    "version": 3
   },
   "file_extension": ".py",
   "mimetype": "text/x-python",
   "name": "python",
   "nbconvert_exporter": "python",
   "pygments_lexer": "ipython3",
   "version": "3.8.2"
  }
 },
 "nbformat": 4,
 "nbformat_minor": 0
}
