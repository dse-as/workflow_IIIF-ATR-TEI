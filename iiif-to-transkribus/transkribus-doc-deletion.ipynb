{
 "cells": [
  {
   "cell_type": "markdown",
   "metadata": {},
   "source": [
    "# Deleting documents from a Transkribus collection"
   ]
  },
  {
   "cell_type": "markdown",
   "metadata": {},
   "source": [
    "## Get values from parsed issue description\n",
    "\n",
    "* Set IIIF manifests / file names / Transkribus IDs to delete\n",
    "* Set target collection (by ID)"
   ]
  },
  {
   "cell_type": "code",
   "execution_count": null,
   "metadata": {},
   "outputs": [],
   "source": [
    "import json\n",
    "import re\n",
    "\n",
    "with open('./issue-parser-result.json') as issue_json:\n",
    "    issue_desc = json.load(issue_json)\n",
    "\n",
    "to_delete_iiif = issue_desc['iiif-manifests'].splitlines() [1:-1]\n",
    "to_delete_iiif_filenames = [item.split('/')[-1] for item in to_delete_iiif]\n",
    "to_delete_plain_filenames = issue_desc['file-names'].splitlines() [1:-1]\n",
    "to_delete_transkribus = issue_desc['transkribus-ids'].splitlines() [1:-1]\n",
    "\n",
    "collectionId = re.search(r\"\\((\\w+)\\)\", issue_desc['target-collection']).group(0) [1:-1]\n",
    "\n",
    "#print(collectionId)"
   ]
  },
  {
   "cell_type": "markdown",
   "metadata": {},
   "source": [
    "## Setup"
   ]
  },
  {
   "cell_type": "code",
   "execution_count": null,
   "metadata": {},
   "outputs": [],
   "source": [
    "!pip install lxml_html_clean\n",
    "!pip install lxml[html_clean]\n",
    "!pip install requests-toolbelt\n",
    "\n",
    "import requests\n",
    "from requests_toolbelt.multipart.encoder import MultipartEncoder\n",
    "import os\n",
    "from IPython.core.display import HTML\n",
    "import time\n",
    "import random\n",
    "from lxml import etree\n",
    "import json"
   ]
  },
  {
   "cell_type": "markdown",
   "metadata": {},
   "source": [
    "## Login"
   ]
  },
  {
   "cell_type": "code",
   "execution_count": null,
   "metadata": {},
   "outputs": [],
   "source": [
    "import os\n",
    "import json\n",
    "if secretsPath:\n",
    "    with open(secretsPath, 'r') as secretsFile:\n",
    "        secrets = json.loads(secretsFile.read())\n",
    "        for (k, v) in secrets.items():\n",
    "            os.environ[k] = v\n",
    "\n",
    "creds = json.loads(os.environ[\"TRANSKRIBUS_CREDENTIALS\"])\n",
    "\n",
    "s = requests.Session()\n",
    "s.post('https://transkribus.eu/TrpServer/rest/auth/login', data=creds)"
   ]
  },
  {
   "cell_type": "markdown",
   "metadata": {},
   "source": [
    "## Delete files"
   ]
  },
  {
   "cell_type": "code",
   "execution_count": null,
   "metadata": {},
   "outputs": [],
   "source": [
    "%%capture cap --no-stderr\n",
    "\n",
    "import json\n",
    "\n",
    "docs = s.get('https://transkribus.eu/TrpServer/rest/collections/'+ str(collectionId) +'/list')\n",
    "docs_json = json.loads(docs.content)\n",
    "\n",
    "print(f\"Number of documents in collection \" + str(collectionId) + \" before deletion: \" + str(len(docs_json)))\n",
    "\n",
    "to_delete_filenames = to_delete_plain_filenames + to_delete_iiif_filenames\n",
    "\n",
    "docIds_iiif_to_delete = []\n",
    "for doc in docs_json:\n",
    "  if 'title' in doc and any(filename in doc['title'] for filename in to_delete_filenames):\n",
    "    docIds_iiif_to_delete.append(doc['docId'])\n",
    "\n",
    "docIds_all_to_delete = docIds_iiif_to_delete + to_delete_transkribus\n",
    "# this might not work for IIIF info (attempt to reduce over-eagerness of the action)\n",
    "#docIds_all_to_delete = docIds_iiif_to_delete + to_delete_iiif_filenames\n",
    "print(docIds_all_to_delete)\n",
    "\n",
    "print(f\"debug: docIds_iiif_to_delete \" + str(docIds_iiif_to_delete) )\n",
    "print(f\"debug: to_delete_transkribus \" + str(to_delete_transkribus) )\n",
    "print(f\"debug: to_delete_filenames \" + str(to_delete_filenames) )\n",
    "print(f\"debug: to_delete_plain_filenames \" + str(to_delete_plain_filenames) )\n",
    "print(f\"debug: to_delete_iiif_filenames \" + str(to_delete_iiif_filenames) )\n",
    "\n",
    "\n",
    "for docId in docIds_all_to_delete:\n",
    "  response = s.delete(f'https://transkribus.eu/TrpServer/rest/collections/{collectionId}/{docId}')\n",
    "  print(f\"Deleted docId {docId} from collection {collectionId} with status code: {response.status_code}\")\n",
    "\n",
    "docs_after = s.get('https://transkribus.eu/TrpServer/rest/collections/'+ str(collectionId) +'/list')\n",
    "docs_after_json = json.loads(docs_after.content)\n",
    "\n",
    "print(f\"Number of documents in collection \" + str(collectionId) + \" after deletion: \" + str(len(docs_after_json)))\n"
   ]
  },
  {
   "cell_type": "code",
   "execution_count": null,
   "metadata": {},
   "outputs": [],
   "source": [
    "with open('./ipynb.txt', 'w') as f:\n",
    "    f.write(\"# Workflow finished\\n\\n\")\n",
    "    f.write(\":sparkles: Here is the result of the workflow:\\n\\n\")\n",
    "    f.write(\"```\\n\")\n",
    "    f.write(cap.stdout)\n",
    "    f.write(\"```\\n\\n\")\n",
    "    f.write(\"Feel free to verify the actual deletion in Transkribus and close this issue. :sparkles:\")\n",
    "cap()"
   ]
  }
 ],
 "metadata": {
  "colab": {
   "include_colab_link": true,
   "provenance": []
  },
  "kernelspec": {
   "display_name": "Python 3",
   "language": "python",
   "name": "python3"
  },
  "language_info": {
   "codemirror_mode": {
    "name": "ipython",
    "version": 3
   },
   "file_extension": ".py",
   "mimetype": "text/x-python",
   "name": "python",
   "nbconvert_exporter": "python",
   "pygments_lexer": "ipython3",
   "version": "3.8.2"
  }
 },
 "nbformat": 4,
 "nbformat_minor": 0
}
