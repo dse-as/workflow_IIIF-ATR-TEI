{
  "cells": [
    {
      "cell_type": "markdown",
      "metadata": {},
      "source": [
        "# Uploading IIIF images to Transkribus based on IIIF manifests"
      ]
    },
    {
      "cell_type": "markdown",
      "metadata": {},
      "source": [
        "## Get values from parsed issue description\n",
        "\n",
        "* Set IIIF manifests to upload\n",
        "* Set target collection (by ID)"
      ]
    },
    {
      "cell_type": "code",
      "execution_count": null,
      "metadata": {},
      "outputs": [],
      "source": [
        "import json\n",
        "import re\n",
        "\n",
        "with open('./issue-parser-result.json') as issue_json:\n",
        "    issue_desc = json.load(issue_json)\n",
        "\n",
        "to_process = issue_desc['iiif-manifests'].splitlines() [1:-1]\n",
        "collectionId = re.search(r\"\\((\\w+)\\)\", issue_desc['target-collection']).group(0) [1:-1]\n",
        "\n",
        "#print(to_process)\n",
        "#print(collectionId)"
      ]
    },
    {
      "cell_type": "markdown",
      "metadata": {},
      "source": [
        "## Setup"
      ]
    },
    {
      "cell_type": "code",
      "execution_count": null,
      "metadata": {},
      "outputs": [],
      "source": [
        "!pip install lxml_html_clean\n",
        "!pip install lxml[html_clean]\n",
        "!pip install requests-toolbelt\n",
        "\n",
        "import requests\n",
        "from requests_toolbelt.multipart.encoder import MultipartEncoder\n",
        "import os\n",
        "from IPython.core.display import HTML\n",
        "import time\n",
        "import random\n",
        "from lxml import etree\n",
        "import json"
      ]
    },
    {
      "cell_type": "markdown",
      "metadata": {},
      "source": [
        "## Login"
      ]
    },
    {
      "cell_type": "code",
      "execution_count": null,
      "metadata": {},
      "outputs": [],
      "source": [
        "import os\n",
        "import json\n",
        "if secretsPath:\n",
        "    with open(secretsPath, 'r') as secretsFile:\n",
        "        secrets = json.loads(secretsFile.read())\n",
        "        for (k, v) in secrets.items():\n",
        "            os.environ[k] = v\n",
        "\n",
        "creds = json.loads(os.environ[\"TRANSKRIBUS_CREDENTIALS\"])\n",
        "\n",
        "s = requests.Session()\n",
        "s.post('https://transkribus.eu/TrpServer/rest/auth/login', data=creds)"
      ]
    },
    {
      "cell_type": "markdown",
      "metadata": {},
      "source": [
        "## Initialisation"
      ]
    },
    {
      "cell_type": "code",
      "execution_count": null,
      "metadata": {},
      "outputs": [],
      "source": [
        "def iiif_manifest(url):\n",
        "    r = requests.get(url)\n",
        "    return r.json()\n",
        "\n",
        "def get_pages(manifest):\n",
        "    pagesDict = dict()\n",
        "    for page in manifest['items']:\n",
        "      try:\n",
        "        pagesDict[page['label']['en'][0]] = page['items'][0]['items'][0]['body']['id']\n",
        "      except KeyError:\n",
        "        pagesDict = dict()\n",
        "    return pagesDict\n",
        "\n",
        "def download_pages(pages, wait=1):\n",
        "    pageDict = dict()\n",
        "    for page in enumerate(sorted(pages)):\n",
        "        try:\n",
        "            filename = page[1]\n",
        "            r = requests.get(pages[filename].replace('info.json', 'full/max/0/default.jpg'), stream=True)\n",
        "            # NB: the extension is required, otherwise no uploadId issued\n",
        "            pageDict[filename+\".jpg\"] = r.content\n",
        "            time.sleep(wait)\n",
        "        except:\n",
        "            print(\"exception\")\n",
        "            continue\n",
        "    return pageDict"
      ]
    },
    {
      "cell_type": "markdown",
      "metadata": {},
      "source": [
        "## Processing uploads"
      ]
    },
    {
      "cell_type": "code",
      "execution_count": null,
      "metadata": {},
      "outputs": [],
      "source": [
        "%%capture cap\n",
        "\n",
        "print(\"# Workflow finished\")\n",
        "print(\":sparkles: Here is the result of the workflow:\")\n",
        "print(\"```\")\n",
        "\n",
        "skipped = []\n",
        "for processing in to_process:\n",
        "    fail = False\n",
        "    print(\"Processing\", processing)\n",
        "    manifest = iiif_manifest(processing)\n",
        "    pages = get_pages(manifest)\n",
        "    files = download_pages(pages)\n",
        "    #print(\"pages:\")\n",
        "    #print(pages)\n",
        "    #print(\"files:\")\n",
        "    #print(files)\n",
        "\n",
        "    pages_metadata = [{'fileName': val, 'pageNr': idx+1} for idx,val in enumerate(sorted(files))]\n",
        "\n",
        "    #print(\"pages_metadata:\")\n",
        "    #print(pages_metadata)\n",
        "\n",
        "    uploadObj = {\n",
        "        \"md\": {\n",
        "            \"title\": processing.replace('https://iiif.annemarie-schwarzenbach.ch/presentation/', ''),\n",
        "            \"externalId\": processing.replace('https://iiif.annemarie-schwarzenbach.ch/presentation/', '').replace('.json','')\n",
        "        },\n",
        "        \"pageList\": {\"pages\": pages_metadata}\n",
        "    }\n",
        "    print(\"- with upload object:\", uploadObj)\n",
        "\n",
        "    headers = {'Content-type': 'application/json'}\n",
        "    try:\n",
        "        cont = s.post('https://transkribus.eu/TrpServer/rest/uploads?collId='+collectionId, json=uploadObj, headers=headers)\n",
        "        # parse and get upload ID\n",
        "        response = etree.fromstring(cont.content)\n",
        "        uploadId = response.xpath('//uploadId/text()')[0]\n",
        "        print('- successfully uploaded metadata, got id', uploadId)\n",
        "        print('- transmitting file(s)')\n",
        "    except:\n",
        "        print(\"-- failed to get upload ID, skipping\", processing)\n",
        "        skipped.append(processing)\n",
        "        continue\n",
        "\n",
        "    # loop through files\n",
        "    for key in sorted(files):\n",
        "        \n",
        "        mp_encoder = MultipartEncoder(\n",
        "        fields={\n",
        "            'img': (key, files[key], 'application/octet-stream')\n",
        "            }\n",
        "        )\n",
        "\n",
        "        try:\n",
        "            cont = s.put('https://transkribus.eu/TrpServer/rest/uploads/' + uploadId, data=mp_encoder, headers={'Content-Type': mp_encoder.content_type})\n",
        "            response = etree.fromstring(cont.content)\n",
        "            jobId = response.xpath('//jobId/text()')[0]\n",
        "            print(\"Job ID: \", jobId)\n",
        "        except:\n",
        "            print(\"-- ⚠️🛑 failed to upload\", key, \" 🛑⚠️\")\n",
        "            fail = True\n",
        "            break\n",
        "        time.sleep(random.randint(0,2))\n",
        "    if fail == False:\n",
        "        print(\"- done!\")\n",
        "        print(\"══════════════════════\")\n",
        "    else:\n",
        "        skipped.append(processing)\n",
        "        print(\"-- failed to upload file in \", processing, \"skipping this manifest\")\n",
        "\n",
        "print(\"```\")\n",
        "print(\"Please check if the new addition to the collection looks good and close this issue. :sparkles:\")"
      ]
    },
    {
      "cell_type": "code",
      "execution_count": null,
      "metadata": {},
      "outputs": [],
      "source": [
        "with open('./ipynb.txt', 'w') as f:\n",
        "    f.write(cap.stdout)\n",
        "cap()"
      ]
    }
  ],
  "metadata": {
    "colab": {
      "include_colab_link": true,
      "provenance": []
    },
    "kernelspec": {
      "display_name": "Python 3",
      "language": "python",
      "name": "python3"
    },
    "language_info": {
      "codemirror_mode": {
        "name": "ipython",
        "version": 3
      },
      "file_extension": ".py",
      "mimetype": "text/x-python",
      "name": "python",
      "nbconvert_exporter": "python",
      "pygments_lexer": "ipython3",
      "version": "3.8.2"
    }
  },
  "nbformat": 4,
  "nbformat_minor": 0
}
